{
 "cells": [
  {
   "cell_type": "markdown",
   "metadata": {},
   "source": [
    "## MNIST를 RNN으로"
   ]
  },
  {
   "cell_type": "markdown",
   "metadata": {},
   "source": [
    "RNN 기본 개념"
   ]
  },
  {
   "cell_type": "markdown",
   "metadata": {},
   "source": [
    "![RNN 기본 개념](RNN.png)"
   ]
  },
  {
   "cell_type": "markdown",
   "metadata": {},
   "source": [
    "- 한 덩어리의 신경망을 셀이라 칭함\n",
    "- RNN은 이 셀을 여러개 중첩하여 심층 신경망을 생성(앞 단계에서 학습한 결과를 다음 단계에 이용)\n",
    "- 학습 데이터를 단계별로 구분하여 입력해야 함"
   ]
  },
  {
   "cell_type": "code",
   "execution_count": 3,
   "metadata": {},
   "outputs": [
    {
     "name": "stdout",
     "output_type": "stream",
     "text": [
      "Extracting ../mnist/data/train-images-idx3-ubyte.gz\n",
      "Extracting ../mnist/data/train-labels-idx1-ubyte.gz\n",
      "Extracting ../mnist/data/t10k-images-idx3-ubyte.gz\n",
      "Extracting ../mnist/data/t10k-labels-idx1-ubyte.gz\n"
     ]
    }
   ],
   "source": [
    "import tensorflow as tf\n",
    "\n",
    "from tensorflow.examples.tutorials.mnist import input_data\n",
    "mnist = input_data.read_data_sets(\"../mnist/data/\", one_hot=True)\n",
    "\n",
    "# hyper parameter\n",
    "learning_rate = 0.001\n",
    "total_epoch = 30\n",
    "batch_size = 128\n",
    "\n",
    "n_input = 28\n",
    "n_step = 28\n",
    "n_hidden = 128\n",
    "n_class = 10\n",
    "\n",
    "# 입력/출력\n",
    "# 순서가 있는 데이터이기 때문에 입력받을 개수와 총 몇단계로 이루어진 데이터를 받을지 결정 필요\n",
    "X = tf.placeholder(tf.float32, [None, n_step, n_input])\n",
    "Y = tf.placeholder(tf.float32, [None, n_class])\n",
    "# 가중치/편차\n",
    "W = tf.Variable(tf.random_normal([n_hidden, n_class]))\n",
    "b = tf.Variable(tf.random_normal([n_class]))"
   ]
  },
  {
   "cell_type": "code",
   "execution_count": 4,
   "metadata": {},
   "outputs": [
    {
     "name": "stdout",
     "output_type": "stream",
     "text": [
      "WARNING:tensorflow:From <ipython-input-4-e006f918b220>:1: BasicRNNCell.__init__ (from tensorflow.python.ops.rnn_cell_impl) is deprecated and will be removed in a future version.\n",
      "Instructions for updating:\n",
      "This class is equivalent as tf.keras.layers.SimpleRNNCell, and will be replaced by that in Tensorflow 2.0.\n"
     ]
    }
   ],
   "source": [
    "cell = tf.nn.rnn_cell.BasicRNNCell(n_hidden)"
   ]
  },
  {
   "cell_type": "code",
   "execution_count": 5,
   "metadata": {},
   "outputs": [
    {
     "name": "stdout",
     "output_type": "stream",
     "text": [
      "WARNING:tensorflow:From <ipython-input-5-f7b88a02a855>:1: dynamic_rnn (from tensorflow.python.ops.rnn) is deprecated and will be removed in a future version.\n",
      "Instructions for updating:\n",
      "Please use `keras.layers.RNN(cell)`, which is equivalent to this API\n",
      "WARNING:tensorflow:From /Users/jaehyunlee/.virtualenvs/3mdeeplearning/lib/python3.7/site-packages/tensorflow_core/python/ops/rnn_cell_impl.py:456: Layer.add_variable (from tensorflow.python.keras.engine.base_layer) is deprecated and will be removed in a future version.\n",
      "Instructions for updating:\n",
      "Please use `layer.add_weight` method instead.\n",
      "WARNING:tensorflow:From /Users/jaehyunlee/.virtualenvs/3mdeeplearning/lib/python3.7/site-packages/tensorflow_core/python/ops/rnn_cell_impl.py:460: calling Zeros.__init__ (from tensorflow.python.ops.init_ops) with dtype is deprecated and will be removed in a future version.\n",
      "Instructions for updating:\n",
      "Call initializer instance with the dtype argument instead of passing it to the constructor\n"
     ]
    }
   ],
   "source": [
    "# 신경망 생성\n",
    "outputs, states = tf.nn.dynamic_rnn(cell, X, dtype=tf.float32)"
   ]
  },
  {
   "cell_type": "code",
   "execution_count": 6,
   "metadata": {},
   "outputs": [],
   "source": [
    "outputs = tf.transpose(outputs, [1, 0, 2])\n",
    "outputs = outputs[-1]"
   ]
  },
  {
   "cell_type": "code",
   "execution_count": 7,
   "metadata": {},
   "outputs": [],
   "source": [
    "# 결과값\n",
    "model = tf.matmul(outputs, W) + b"
   ]
  },
  {
   "cell_type": "code",
   "execution_count": 8,
   "metadata": {},
   "outputs": [],
   "source": [
    "# 손실값 및 최적화 \n",
    "cost = tf.reduce_mean(tf.nn.softmax_cross_entropy_with_logits_v2(logits=model, labels=Y))\n",
    "optimizer = tf.train.AdamOptimizer(learning_rate).minimize(cost)"
   ]
  },
  {
   "cell_type": "code",
   "execution_count": 9,
   "metadata": {
    "collapsed": true
   },
   "outputs": [
    {
     "name": "stdout",
     "output_type": "stream",
     "text": [
      "Epoch : 0001 Avg cost = 0.554\n",
      "Epoch : 0002 Avg cost = 0.255\n",
      "Epoch : 0003 Avg cost = 0.187\n",
      "Epoch : 0004 Avg cost = 0.167\n",
      "Epoch : 0005 Avg cost = 0.148\n",
      "Epoch : 0006 Avg cost = 0.132\n",
      "Epoch : 0007 Avg cost = 0.125\n",
      "Epoch : 0008 Avg cost = 0.117\n",
      "Epoch : 0009 Avg cost = 0.112\n",
      "Epoch : 0010 Avg cost = 0.106\n",
      "Epoch : 0011 Avg cost = 0.095\n",
      "Epoch : 0012 Avg cost = 0.100\n",
      "Epoch : 0013 Avg cost = 0.095\n",
      "Epoch : 0014 Avg cost = 0.091\n",
      "Epoch : 0015 Avg cost = 0.090\n",
      "Epoch : 0016 Avg cost = 0.080\n",
      "Epoch : 0017 Avg cost = 0.086\n",
      "Epoch : 0018 Avg cost = 0.075\n",
      "Epoch : 0019 Avg cost = 0.084\n",
      "Epoch : 0020 Avg cost = 0.077\n",
      "Epoch : 0021 Avg cost = 0.082\n",
      "Epoch : 0022 Avg cost = 0.071\n",
      "Epoch : 0023 Avg cost = 0.072\n",
      "Epoch : 0024 Avg cost = 0.070\n",
      "Epoch : 0025 Avg cost = 0.076\n",
      "Epoch : 0026 Avg cost = 0.065\n",
      "Epoch : 0027 Avg cost = 0.062\n",
      "Epoch : 0028 Avg cost = 0.061\n",
      "Epoch : 0029 Avg cost = 0.069\n",
      "Epoch : 0030 Avg cost = 0.065\n",
      "최적화 완료\n",
      "정확도 :  0.9762\n"
     ]
    }
   ],
   "source": [
    "sess = tf.Session()\n",
    "sess.run(tf.global_variables_initializer())\n",
    "\n",
    "total_batch = int(mnist.train.num_examples / batch_size)\n",
    "\n",
    "for epoch in range(total_epoch):\n",
    "    total_cost = 0\n",
    "    \n",
    "    for i in range(total_batch):\n",
    "        batch_xs, batch_ys = mnist.train.next_batch(batch_size)\n",
    "        batch_xs = batch_xs.reshape([batch_size, n_step, n_input])\n",
    "        \n",
    "        _, cost_val = sess.run([optimizer, cost], feed_dict={X: batch_xs, Y:batch_ys})\n",
    "        \n",
    "        total_cost += cost_val\n",
    "        \n",
    "    print('Epoch : %04d' % (epoch +1), 'Avg cost = {:.3f}'.format(total_cost / total_batch))\n",
    "    \n",
    "print('최적화 완료')\n",
    "\n",
    "is_correct = tf.equal(tf.argmax(model, 1), tf.argmax(Y, 1))\n",
    "accuracy = tf.reduce_mean(tf.cast(is_correct, tf.float32))\n",
    "\n",
    "test_batch_size = len(mnist.test.images)\n",
    "\n",
    "test_xs = mnist.test.images.reshape(test_batch_size, n_step, n_input)\n",
    "test_ys = mnist.test.labels\n",
    "\n",
    "print('정확도 : ', sess.run(accuracy, feed_dict={X: test_xs, Y: test_ys}))"
   ]
  },
  {
   "cell_type": "markdown",
   "metadata": {},
   "source": [
    "## 단어 자동 완성"
   ]
  },
  {
   "cell_type": "code",
   "execution_count": 10,
   "metadata": {},
   "outputs": [],
   "source": [
    "import tensorflow as tf\n",
    "import numpy as np\n",
    "\n",
    "char_arr = ['a', 'b', 'c', 'd', 'e','f', 'g',\n",
    "           'h', 'i', 'j', 'k', 'l', 'm', 'n',\n",
    "           'o', 'p', 'q', 'r', 's', 't', 'u',\n",
    "           'v', 'w', 'x', 'y','z']\n",
    "\n",
    "num_dic = {n: i for i , n in enumerate(char_arr)}\n",
    "dic_len = len(num_dic)"
   ]
  },
  {
   "cell_type": "code",
   "execution_count": 11,
   "metadata": {},
   "outputs": [],
   "source": [
    "# 학습 데이터 저장\n",
    "seq_data = ['word', 'wood', 'deep', 'dive', 'cold' ,'cool', 'load', 'love', 'kiss', 'kind']"
   ]
  },
  {
   "cell_type": "code",
   "execution_count": 12,
   "metadata": {},
   "outputs": [],
   "source": [
    "def make_batch(seq_data):\n",
    "    input_batch = []\n",
    "    target_batch = []\n",
    "    \n",
    "    for seq in seq_data:\n",
    "        input = [num_dic[n] for n in seq[:-1]]\n",
    "        target = num_dic[seq[-1]]\n",
    "        input_batch.append(np.eye(dic_len)[input])\n",
    "        target_batch.append(target)\n",
    "    return input_batch, target_batch"
   ]
  },
  {
   "cell_type": "code",
   "execution_count": 13,
   "metadata": {},
   "outputs": [],
   "source": [
    "# 신경망 모델 구성\n",
    "learning_rate = 0.01\n",
    "n_hidden = 128\n",
    "total_epoch = 30\n",
    "\n",
    "n_step = 3\n",
    "n_input = n_class = dic_len\n",
    "\n",
    "X = tf.placeholder(tf.float32, [None, n_step, n_input])\n",
    "Y = tf.placeholder(tf.int32, [None])\n",
    "\n",
    "W = tf.Variable(tf.random_normal([n_hidden, n_class]))\n",
    "b = tf.Variable(tf.random_normal([n_class]))"
   ]
  },
  {
   "cell_type": "code",
   "execution_count": 14,
   "metadata": {},
   "outputs": [
    {
     "name": "stdout",
     "output_type": "stream",
     "text": [
      "WARNING:tensorflow:From <ipython-input-14-01bb04afe02e>:2: BasicLSTMCell.__init__ (from tensorflow.python.ops.rnn_cell_impl) is deprecated and will be removed in a future version.\n",
      "Instructions for updating:\n",
      "This class is equivalent as tf.keras.layers.LSTMCell, and will be replaced by that in Tensorflow 2.0.\n"
     ]
    }
   ],
   "source": [
    "# RNN 셀 생성\n",
    "cell1= tf.nn.rnn_cell.BasicLSTMCell(n_hidden)\n",
    "cell1 = tf.nn.rnn_cell.DropoutWrapper(cell1, output_keep_prob=0.5)\n",
    "cell2 = tf.nn.rnn_cell.BasicLSTMCell(n_hidden)"
   ]
  },
  {
   "cell_type": "code",
   "execution_count": 15,
   "metadata": {},
   "outputs": [
    {
     "name": "stdout",
     "output_type": "stream",
     "text": [
      "WARNING:tensorflow:From <ipython-input-15-5ea6d08ec7fd>:1: MultiRNNCell.__init__ (from tensorflow.python.ops.rnn_cell_impl) is deprecated and will be removed in a future version.\n",
      "Instructions for updating:\n",
      "This class is equivalent as tf.keras.layers.StackedRNNCells, and will be replaced by that in Tensorflow 2.0.\n"
     ]
    }
   ],
   "source": [
    "multi_cell = tf.nn.rnn_cell.MultiRNNCell([cell1, cell2])\n",
    "outputs, states = tf.nn.dynamic_rnn(multi_cell, X, dtype=tf.float32)"
   ]
  },
  {
   "cell_type": "code",
   "execution_count": 16,
   "metadata": {},
   "outputs": [],
   "source": [
    "outputs = tf.transpose(outputs, [1, 0,2 ])\n",
    "outputs = outputs[-1]\n",
    "model = tf.matmul(outputs, W) + b"
   ]
  },
  {
   "cell_type": "code",
   "execution_count": 17,
   "metadata": {},
   "outputs": [],
   "source": [
    "# 손실함수, 최적화\n",
    "cost = tf.reduce_mean(tf.nn.sparse_softmax_cross_entropy_with_logits(logits=model, labels=Y))\n",
    "optimizer = tf.train.AdamOptimizer(learning_rate).minimize(cost)"
   ]
  },
  {
   "cell_type": "code",
   "execution_count": 18,
   "metadata": {},
   "outputs": [
    {
     "name": "stdout",
     "output_type": "stream",
     "text": [
      "Epoch: 0001 cost = 3.756218\n",
      "Epoch: 0002 cost = 2.624926\n",
      "Epoch: 0003 cost = 1.416641\n",
      "Epoch: 0004 cost = 1.253464\n",
      "Epoch: 0005 cost = 0.768952\n",
      "Epoch: 0006 cost = 0.521900\n",
      "Epoch: 0007 cost = 0.771612\n",
      "Epoch: 0008 cost = 0.650361\n",
      "Epoch: 0009 cost = 0.394681\n",
      "Epoch: 0010 cost = 0.357200\n",
      "Epoch: 0011 cost = 0.393904\n",
      "Epoch: 0012 cost = 0.259976\n",
      "Epoch: 0013 cost = 0.186685\n",
      "Epoch: 0014 cost = 0.115431\n",
      "Epoch: 0015 cost = 0.114479\n",
      "Epoch: 0016 cost = 0.437807\n",
      "Epoch: 0017 cost = 0.131866\n",
      "Epoch: 0018 cost = 0.270023\n",
      "Epoch: 0019 cost = 0.086541\n",
      "Epoch: 0020 cost = 0.028202\n",
      "Epoch: 0021 cost = 0.020861\n",
      "Epoch: 0022 cost = 0.074780\n",
      "Epoch: 0023 cost = 0.178056\n",
      "Epoch: 0024 cost = 0.029700\n",
      "Epoch: 0025 cost = 0.034167\n",
      "Epoch: 0026 cost = 0.064535\n",
      "Epoch: 0027 cost = 0.050619\n",
      "Epoch: 0028 cost = 0.013120\n",
      "Epoch: 0029 cost = 0.041470\n",
      "Epoch: 0030 cost = 0.014167\n",
      "최적화 완료\n"
     ]
    }
   ],
   "source": [
    "sess = tf.Session()\n",
    "sess.run(tf.global_variables_initializer())\n",
    "\n",
    "input_batch, target_batch = make_batch(seq_data)\n",
    "\n",
    "for epoch in range(total_epoch):\n",
    "    _, loss = sess.run([optimizer, cost], feed_dict={X: input_batch, Y: target_batch})\n",
    "    \n",
    "    print('Epoch: %04d' %(epoch +1), 'cost = {:.6f}'.format(loss))\n",
    "print('최적화 완료')"
   ]
  },
  {
   "cell_type": "code",
   "execution_count": 19,
   "metadata": {},
   "outputs": [],
   "source": [
    "# 예측단어와 정확도\n",
    "prediction = tf.cast(tf.argmax(model, 1), tf.int32)\n",
    "prediction_check = tf.equal(prediction, Y)\n",
    "accuracy = tf.reduce_mean(tf.cast(prediction_check, tf.float32))"
   ]
  },
  {
   "cell_type": "code",
   "execution_count": 20,
   "metadata": {},
   "outputs": [],
   "source": [
    "# 예측모델 실행\n",
    "input_batch, target_batch = make_batch(seq_data)\n",
    "predict, accuracy_val = sess.run([prediction, accuracy], feed_dict={X: input_batch, Y: target_batch})"
   ]
  },
  {
   "cell_type": "code",
   "execution_count": 24,
   "metadata": {},
   "outputs": [
    {
     "name": "stdout",
     "output_type": "stream",
     "text": [
      "예측 결과\n",
      "입력값: ['wor ', 'woo ', 'dee ', 'div ', 'col ', 'coo ', 'loa ', 'lov ', 'kis ', 'kin ']\n",
      "예측값: ['word', 'wood', 'deep', 'dive', 'cold', 'cool', 'load', 'love', 'kiss', 'kind']\n",
      "정확도: 1.0\n"
     ]
    }
   ],
   "source": [
    "# 예측 단어 출력\n",
    "predict_words = []\n",
    "for idx, val in enumerate(seq_data):\n",
    "    last_char = char_arr[predict[idx]]\n",
    "    predict_words.append(val[:3] + last_char)\n",
    "\n",
    "print('예측 결과')\n",
    "print('입력값:', [w[:3] + ' ' for w in seq_data])\n",
    "print('예측값:', predict_words)\n",
    "print('정확도:', accuracy_val)"
   ]
  }
 ],
 "metadata": {
  "kernelspec": {
   "display_name": "Python 3",
   "language": "python",
   "name": "python3"
  },
  "language_info": {
   "codemirror_mode": {
    "name": "ipython",
    "version": 3
   },
   "file_extension": ".py",
   "mimetype": "text/x-python",
   "name": "python",
   "nbconvert_exporter": "python",
   "pygments_lexer": "ipython3",
   "version": "3.7.3"
  }
 },
 "nbformat": 4,
 "nbformat_minor": 2
}
