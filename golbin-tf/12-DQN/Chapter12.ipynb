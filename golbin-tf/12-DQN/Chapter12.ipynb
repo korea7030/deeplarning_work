{
 "cells": [
  {
   "cell_type": "markdown",
   "metadata": {},
   "source": [
    "## 1. DQN개념"
   ]
  },
  {
   "cell_type": "markdown",
   "metadata": {},
   "source": [
    "- Q-러닝을 딥러닝으로 구현한 형태, Deep Q-network"
   ]
  },
  {
   "cell_type": "markdown",
   "metadata": {},
   "source": [
    "강화학습\n",
    "- 어떤 환경에서 인공지능 에이전트가 현재 상태(환경)을 판단하여 가장 이로운 행동을 하게 만드는 학습\n",
    "- 이로운 행동을 하면 보상을 주고, 해로운 행동을 하면 패널티를 줘서 학습이 진행될수록 이로운 행동을 많이 하도록 유도"
   ]
  },
  {
   "cell_type": "markdown",
   "metadata": {},
   "source": [
    "Q러닝\n",
    "- 어떠한 상태에서 특정 행동을 했을 때의 가치를 나타내는 함수인 Q함수를 학습하는 알고리즘\n",
    "- 특정 상태에서 이 함수의 값이 최대가 되는 행동을 찾도록 학습하면 그 상태에서 어떤 행동을 취해야 할지 알 수 있게 됨"
   ]
  },
  {
   "cell_type": "markdown",
   "metadata": {},
   "source": [
    "딥마인드의 Q러닝 활용 방법\n",
    "1. 과거의 상태를 기억한 뒤 그 중에서 임의의 상태를 뽑아 학습시키는 방법 => 특수한 상황에 치우치지 않도록 학습시킬 수 있음"
   ]
  },
  {
   "cell_type": "markdown",
   "metadata": {},
   "source": [
    "![상태기억 및 랜덤샘플링](DQN-2.png)"
   ]
  },
  {
   "cell_type": "markdown",
   "metadata": {},
   "source": [
    "2. 손실값 계산을 위해 학습을 진행하면서 최적의 행동을 얻어내는 기본 신경망과 얻어낸 값이 좋은 선택인지 비교하는 목표 신경망을 분리하는 방법 사용"
   ]
  },
  {
   "cell_type": "markdown",
   "metadata": {},
   "source": [
    "![DQN 개념](DQN.png)"
   ]
  },
  {
   "cell_type": "markdown",
   "metadata": {},
   "source": [
    "- 기본 신경망 : 손실값 계산을 위해 학습을 진행하면서 최적의 행동을 얻어내는 신경망\n",
    "- 목표(target) 신경망 : 얻어낸 값이 좋은 선택인지 비교하는 신경망\n",
    "- 목표 신경망은 계속 갱신하는 것이 아니라, 기본 신경망의 학습된 결괏값을 일정 주기마다 목표 신경먕에 갱신해 줌\n",
    "- DQN은 화면의 상태, 즉 화면 영상만으로 게임을 학습(CNN으로 신경망을 구성)"
   ]
  },
  {
   "cell_type": "markdown",
   "metadata": {},
   "source": [
    "## 2. 에이전트 구현하기"
   ]
  }
 ],
 "metadata": {
  "kernelspec": {
   "display_name": "Python 3",
   "language": "python",
   "name": "python3"
  },
  "language_info": {
   "codemirror_mode": {
    "name": "ipython",
    "version": 3
   },
   "file_extension": ".py",
   "mimetype": "text/x-python",
   "name": "python",
   "nbconvert_exporter": "python",
   "pygments_lexer": "ipython3",
   "version": "3.7.3"
  }
 },
 "nbformat": 4,
 "nbformat_minor": 2
}
