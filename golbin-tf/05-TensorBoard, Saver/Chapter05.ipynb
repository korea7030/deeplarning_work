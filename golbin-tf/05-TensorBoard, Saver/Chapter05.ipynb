{
 "cells": [
  {
   "cell_type": "code",
   "execution_count": 2,
   "metadata": {},
   "outputs": [],
   "source": [
    "import tensorflow as tf\n",
    "from IPython.display import Image\n",
    "import numpy as np"
   ]
  },
  {
   "cell_type": "markdown",
   "metadata": {},
   "source": [
    "## 1. 학습 모델 저장하고 재사용"
   ]
  },
  {
   "cell_type": "code",
   "execution_count": 4,
   "metadata": {},
   "outputs": [],
   "source": [
    "data = np.loadtxt('../data.csv', delimiter=',', unpack=True, dtype='float32')\n",
    "x_data = np.transpose(data[0:2])\n",
    "y_data = np.transpose(data[2:])"
   ]
  },
  {
   "cell_type": "code",
   "execution_count": 5,
   "metadata": {},
   "outputs": [],
   "source": [
    "# 학습에 사용되지 않고 횟수만 카운트 하는 global 변수\n",
    "global_step = tf.Variable(0, trainable=False, name='global_step')"
   ]
  },
  {
   "cell_type": "code",
   "execution_count": 6,
   "metadata": {},
   "outputs": [],
   "source": [
    "X = tf.placeholder(tf.float32)\n",
    "Y = tf.placeholder(tf.float32)\n",
    "\n",
    "W1 = tf.Variable(tf.random_uniform([2, 10], -1., 1.))\n",
    "L1 = tf.nn.relu(tf.matmul(X, W1))\n",
    "\n",
    "W2 = tf.Variable(tf.random_uniform([10, 20], -1., 1.))\n",
    "L2 = tf.nn.relu(tf.matmul(L1, W2))\n",
    "\n",
    "W3 = tf.Variable(tf.random_uniform([20, 3], -1., 1.))\n",
    "model = tf.matmul(L2,W3)\n",
    "\n",
    "cost = tf.reduce_mean(tf.nn.softmax_cross_entropy_with_logits_v2(labels=Y, logits=model))\n",
    "\n",
    "optimizer = tf.train.AdamOptimizer(learning_rate=0.01)\n",
    "train_op = optimizer.minimize(cost, global_step=global_step)"
   ]
  },
  {
   "cell_type": "code",
   "execution_count": 7,
   "metadata": {},
   "outputs": [],
   "source": [
    "sess = tf.Session()\n",
    "saver = tf.train.Saver(tf.global_variables()) # 앞에 정의한 변수들을 가져옴"
   ]
  },
  {
   "cell_type": "code",
   "execution_count": 8,
   "metadata": {},
   "outputs": [],
   "source": [
    "# model 디렉토리에 학습해둔 모델 불러오기(없으면 초기화)\n",
    "ckpt = tf.train.get_checkpoint_state('../model')\n",
    "if ckpt and tf.train.checkpoint_exists(ckpt.model_checkpoint_path):\n",
    "    saver.restore(sess, ckpt.model_checkpoint_path)\n",
    "else:\n",
    "    sess.run(tf.global_variables_initializer())"
   ]
  },
  {
   "cell_type": "code",
   "execution_count": 43,
   "metadata": {},
   "outputs": [
    {
     "name": "stdout",
     "output_type": "stream",
     "text": [
      "Step : 1  Cost : 1.509 \n",
      "Step : 2  Cost : 1.420 \n"
     ]
    }
   ],
   "source": [
    "for step in range(2):\n",
    "    sess.run(train_op, feed_dict={X: x_data, Y: y_data})\n",
    "    \n",
    "    print('Step : %d ' %sess.run(global_step),\n",
    "          'Cost : %.3f ' %sess.run(cost, feed_dict={X: x_data, Y: y_data}))"
   ]
  },
  {
   "cell_type": "code",
   "execution_count": 44,
   "metadata": {},
   "outputs": [
    {
     "data": {
      "text/plain": [
       "'./model/dnn.ckpt-2'"
      ]
     },
     "execution_count": 44,
     "metadata": {},
     "output_type": "execute_result"
    }
   ],
   "source": [
    "saver.save(sess, '../model/dnn.ckpt', global_step=global_step)"
   ]
  },
  {
   "cell_type": "code",
   "execution_count": 45,
   "metadata": {},
   "outputs": [
    {
     "name": "stdout",
     "output_type": "stream",
     "text": [
      "예측값 :  [0 1 1 0 0 0]\n",
      "실제값 :  [0 1 2 0 0 2]\n",
      "정확도 : 66.67\n"
     ]
    }
   ],
   "source": [
    "prediction = tf.argmax(model, 1)\n",
    "target = tf.argmax(Y, 1)\n",
    "print('예측값 : ', sess.run(prediction, feed_dict={X: x_data}))\n",
    "print('실제값 : ', sess.run(target, feed_dict={Y: y_data}))\n",
    "\n",
    "is_correct = tf.equal(prediction, target)\n",
    "accuracy = tf.reduce_mean(tf.cast(is_correct, tf.float32))\n",
    "print('정확도 : %.2f' %sess.run(accuracy * 100, feed_dict={X: x_data, Y: y_data}))"
   ]
  },
  {
   "cell_type": "markdown",
   "metadata": {},
   "source": [
    "## 2. 텐서보드 사용하기"
   ]
  },
  {
   "cell_type": "code",
   "execution_count": 46,
   "metadata": {},
   "outputs": [],
   "source": [
    "data = np.loadtxt('../data.csv', delimiter=',', unpack=True, dtype='float32')\n",
    "\n",
    "x_data = np.transpose(data[0:2])\n",
    "y_data = np.transpose(data[2:])\n",
    "\n",
    "global_step = tf.Variable(0, trainable=False, name='global_step')\n",
    "\n",
    "X = tf.placeholder(tf.float32)\n",
    "Y = tf.placeholder(tf.float32)"
   ]
  },
  {
   "cell_type": "code",
   "execution_count": 48,
   "metadata": {},
   "outputs": [],
   "source": [
    "# 신경망 각 계층에 코드 붙이기\n",
    "with tf.name_scope('layer1'):\n",
    "    W1 = tf.Variable(tf.random_uniform([2,10], -1., 1.), name='W1')\n",
    "    L1 = tf.nn.relu(tf.matmul(X, W1))\n",
    "    \n",
    "with tf.name_scope('layer2'):\n",
    "    W2 = tf.Variable(tf.random_uniform([10, 20], -1., 1.), name='W2')\n",
    "    L2 = tf.nn.relu(tf.matmul(L1, W2))\n",
    "    \n",
    "with tf.name_scope('output'):\n",
    "    W3 = tf.Variable(tf.random_uniform([20, 3], -1., 1.), name='W3')\n",
    "    model = tf.matmul(L2, W3)\n",
    "    \n",
    "with tf.name_scope('optimerzer'):\n",
    "    cost = tf.reduce_mean(tf.nn.softmax_cross_entropy_with_logits_v2(labels=Y, logits=model))\n",
    "    optimizer = tf.train.AdamOptimizer(learning_rate=0.01)\n",
    "    \n",
    "    train_op = optimizer.minimize(cost, global_step=global_step)"
   ]
  },
  {
   "cell_type": "code",
   "execution_count": 49,
   "metadata": {},
   "outputs": [
    {
     "data": {
      "text/plain": [
       "<tf.Tensor 'cost:0' shape=() dtype=string>"
      ]
     },
     "execution_count": 49,
     "metadata": {},
     "output_type": "execute_result"
    }
   ],
   "source": [
    "tf.summary.scalar('cost', cost)"
   ]
  },
  {
   "cell_type": "code",
   "execution_count": 51,
   "metadata": {},
   "outputs": [],
   "source": [
    "# 모델 load 및 초기화\n",
    "sess = tf.Session()\n",
    "saver = tf.train.Saver(tf.global_variables())\n",
    "\n",
    "ckpt = tf.train.get_checkpoint_state('../model')\n",
    "if ckpt and tf.train.checkpoint_exists(ckpt.model_checkpoint_path):\n",
    "    saver.restore(sess, ckpt.model_checkpoint_path)\n",
    "else:\n",
    "    sess.run(tf.global_variables_initializer())"
   ]
  },
  {
   "cell_type": "code",
   "execution_count": 56,
   "metadata": {
    "collapsed": true
   },
   "outputs": [
    {
     "name": "stdout",
     "output_type": "stream",
     "text": [
      "Step : 1  Cost : 0.947 \n",
      "Step : 2  Cost : 0.884 \n",
      "Step : 3  Cost : 0.833 \n",
      "Step : 4  Cost : 0.790 \n",
      "Step : 5  Cost : 0.754 \n",
      "Step : 6  Cost : 0.724 \n",
      "Step : 7  Cost : 0.699 \n",
      "Step : 8  Cost : 0.679 \n",
      "Step : 9  Cost : 0.663 \n",
      "Step : 10  Cost : 0.648 \n",
      "Step : 11  Cost : 0.636 \n",
      "Step : 12  Cost : 0.625 \n",
      "Step : 13  Cost : 0.616 \n",
      "Step : 14  Cost : 0.607 \n",
      "Step : 15  Cost : 0.600 \n",
      "Step : 16  Cost : 0.594 \n",
      "Step : 17  Cost : 0.588 \n",
      "Step : 18  Cost : 0.583 \n",
      "Step : 19  Cost : 0.579 \n",
      "Step : 20  Cost : 0.575 \n",
      "Step : 21  Cost : 0.572 \n",
      "Step : 22  Cost : 0.570 \n",
      "Step : 23  Cost : 0.567 \n",
      "Step : 24  Cost : 0.565 \n",
      "Step : 25  Cost : 0.563 \n",
      "Step : 26  Cost : 0.562 \n",
      "Step : 27  Cost : 0.560 \n",
      "Step : 28  Cost : 0.559 \n",
      "Step : 29  Cost : 0.558 \n",
      "Step : 30  Cost : 0.557 \n",
      "Step : 31  Cost : 0.557 \n",
      "Step : 32  Cost : 0.556 \n",
      "Step : 33  Cost : 0.555 \n",
      "Step : 34  Cost : 0.555 \n",
      "Step : 35  Cost : 0.554 \n",
      "Step : 36  Cost : 0.554 \n",
      "Step : 37  Cost : 0.554 \n",
      "Step : 38  Cost : 0.553 \n",
      "Step : 39  Cost : 0.553 \n",
      "Step : 40  Cost : 0.553 \n",
      "Step : 41  Cost : 0.553 \n",
      "Step : 42  Cost : 0.552 \n",
      "Step : 43  Cost : 0.552 \n",
      "Step : 44  Cost : 0.552 \n",
      "Step : 45  Cost : 0.552 \n",
      "Step : 46  Cost : 0.552 \n",
      "Step : 47  Cost : 0.552 \n",
      "Step : 48  Cost : 0.551 \n",
      "Step : 49  Cost : 0.551 \n",
      "Step : 50  Cost : 0.551 \n",
      "Step : 51  Cost : 0.551 \n",
      "Step : 52  Cost : 0.551 \n",
      "Step : 53  Cost : 0.551 \n",
      "Step : 54  Cost : 0.551 \n",
      "Step : 55  Cost : 0.551 \n",
      "Step : 56  Cost : 0.551 \n",
      "Step : 57  Cost : 0.551 \n",
      "Step : 58  Cost : 0.551 \n",
      "Step : 59  Cost : 0.551 \n",
      "Step : 60  Cost : 0.551 \n",
      "Step : 61  Cost : 0.551 \n",
      "Step : 62  Cost : 0.551 \n",
      "Step : 63  Cost : 0.551 \n",
      "Step : 64  Cost : 0.551 \n",
      "Step : 65  Cost : 0.550 \n",
      "Step : 66  Cost : 0.550 \n",
      "Step : 67  Cost : 0.550 \n",
      "Step : 68  Cost : 0.550 \n",
      "Step : 69  Cost : 0.550 \n",
      "Step : 70  Cost : 0.550 \n",
      "Step : 71  Cost : 0.550 \n",
      "Step : 72  Cost : 0.550 \n",
      "Step : 73  Cost : 0.550 \n",
      "Step : 74  Cost : 0.550 \n",
      "Step : 75  Cost : 0.550 \n",
      "Step : 76  Cost : 0.550 \n",
      "Step : 77  Cost : 0.550 \n",
      "Step : 78  Cost : 0.550 \n",
      "Step : 79  Cost : 0.550 \n",
      "Step : 80  Cost : 0.550 \n",
      "Step : 81  Cost : 0.550 \n",
      "Step : 82  Cost : 0.550 \n",
      "Step : 83  Cost : 0.550 \n",
      "Step : 84  Cost : 0.550 \n",
      "Step : 85  Cost : 0.550 \n",
      "Step : 86  Cost : 0.550 \n",
      "Step : 87  Cost : 0.550 \n",
      "Step : 88  Cost : 0.550 \n",
      "Step : 89  Cost : 0.550 \n",
      "Step : 90  Cost : 0.550 \n",
      "Step : 91  Cost : 0.550 \n",
      "Step : 92  Cost : 0.550 \n",
      "Step : 93  Cost : 0.550 \n",
      "Step : 94  Cost : 0.550 \n",
      "Step : 95  Cost : 0.550 \n",
      "Step : 96  Cost : 0.550 \n",
      "Step : 97  Cost : 0.550 \n",
      "Step : 98  Cost : 0.550 \n",
      "Step : 99  Cost : 0.550 \n",
      "Step : 100  Cost : 0.550 \n"
     ]
    }
   ],
   "source": [
    "merged = tf.summary.merge_all()\n",
    "writer = tf.summary.FileWriter('../logs', sess.graph)\n",
    "\n",
    "for step in range(100):\n",
    "    sess.run(train_op, feed_dict={X: x_data, Y: y_data})\n",
    "    \n",
    "    print('Step : %d ' %sess.run(global_step),\n",
    "          'Cost : %.3f ' %sess.run(cost, feed_dict={X: x_data, Y: y_data}))"
   ]
  },
  {
   "cell_type": "code",
   "execution_count": 57,
   "metadata": {},
   "outputs": [],
   "source": [
    "summary = sess.run(merged, feed_dict={X: x_data, Y: y_data})\n",
    "writer.add_summary(summary, global_step=sess.run(global_step))"
   ]
  },
  {
   "cell_type": "code",
   "execution_count": 58,
   "metadata": {},
   "outputs": [
    {
     "name": "stdout",
     "output_type": "stream",
     "text": [
      "예측값 :  [0 1 2 0 0 2]\n",
      "실제값 :  [0 1 2 0 0 2]\n",
      "정확도 : 100.00\n"
     ]
    }
   ],
   "source": [
    "saver.save(sess, '../model/dnn.ckpt', global_step=global_step)\n",
    "prediction = tf.argmax(model, 1)\n",
    "target = tf.argmax(Y, 1)\n",
    "print('예측값 : ', sess.run(prediction, feed_dict={X: x_data}))\n",
    "print('실제값 : ', sess.run(target, feed_dict={Y: y_data}))\n",
    "\n",
    "is_correct = tf.equal(prediction, target)\n",
    "accuracy = tf.reduce_mean(tf.cast(is_correct, tf.float32))\n",
    "print('정확도 : %.2f' %sess.run(accuracy * 100, feed_dict={X: x_data, Y: y_data}))"
   ]
  }
 ],
 "metadata": {
  "kernelspec": {
   "display_name": "Python 3",
   "language": "python",
   "name": "python3"
  },
  "language_info": {
   "codemirror_mode": {
    "name": "ipython",
    "version": 3
   },
   "file_extension": ".py",
   "mimetype": "text/x-python",
   "name": "python",
   "nbconvert_exporter": "python",
   "pygments_lexer": "ipython3",
   "version": "3.7.3"
  }
 },
 "nbformat": 4,
 "nbformat_minor": 2
}
